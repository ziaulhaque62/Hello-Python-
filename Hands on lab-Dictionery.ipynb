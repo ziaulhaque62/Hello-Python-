{
 "cells": [
  {
   "cell_type": "markdown",
   "id": "d594a1f1-528f-47bb-b1b4-d5ce1f53c8a2",
   "metadata": {},
   "source": [
    "# Dictionaries in Python"
   ]
  },
  {
   "cell_type": "code",
   "execution_count": 6,
   "id": "01a41019-d98d-4f04-89d8-2ef4db283ffe",
   "metadata": {},
   "outputs": [
    {
     "data": {
      "text/plain": [
       "{'Name': 'Ziaul Haque',\n",
       " 'DOB': '1987',\n",
       " 'place of birth': 'kishanganj',\n",
       " 'matric': '2002',\n",
       " 'inter': '2004',\n",
       " 'dpharm': '2006'}"
      ]
     },
     "execution_count": 6,
     "metadata": {},
     "output_type": "execute_result"
    }
   ],
   "source": [
    "Dict= {\"Name\":\"Ziaul Haque\", \"DOB\":'1987',\"place of birth\":'kishanganj', \"matric\":'2002',\"inter\":'2004', \"dpharm\":'2006'}\n",
    "Dict"
   ]
  },
  {
   "cell_type": "code",
   "execution_count": 5,
   "id": "e089a99f-ae1f-4d81-ac34-a138994fee61",
   "metadata": {},
   "outputs": [
    {
     "data": {
      "text/plain": [
       "'Ziaul Haque'"
      ]
     },
     "execution_count": 5,
     "metadata": {},
     "output_type": "execute_result"
    }
   ],
   "source": [
    "Dict['Name']"
   ]
  },
  {
   "cell_type": "code",
   "execution_count": 10,
   "id": "eca4d783-667a-43ee-9c6e-dfaff56a7304",
   "metadata": {},
   "outputs": [
    {
     "data": {
      "text/plain": [
       "'1987'"
      ]
     },
     "execution_count": 10,
     "metadata": {},
     "output_type": "execute_result"
    }
   ],
   "source": [
    "Dict['DOB']"
   ]
  },
  {
   "cell_type": "code",
   "execution_count": 12,
   "id": "b3ea6a7f-f0ad-4b60-b041-e939d2b00f3f",
   "metadata": {},
   "outputs": [
    {
     "data": {
      "text/plain": [
       "{'key1': 1,\n",
       " 'key2': '2',\n",
       " 'key3': [3, 3, 3],\n",
       " 'key4': (4, 4, 4),\n",
       " 'key5': 5,\n",
       " (0, 1): 6}"
      ]
     },
     "execution_count": 12,
     "metadata": {},
     "output_type": "execute_result"
    }
   ],
   "source": [
    "# Create the dictionary\n",
    "\n",
    "Dict = {\"key1\": 1, \"key2\": \"2\", \"key3\": [3, 3, 3], \"key4\": (4, 4, 4), ('key5'): 5, (0, 1): 6}\n",
    "Dict"
   ]
  },
  {
   "cell_type": "code",
   "execution_count": 13,
   "id": "56531e70-2616-4230-a53b-5b6e8fa86865",
   "metadata": {},
   "outputs": [
    {
     "data": {
      "text/plain": [
       "6"
      ]
     },
     "execution_count": 13,
     "metadata": {},
     "output_type": "execute_result"
    }
   ],
   "source": [
    "# Access to the value by the key\n",
    "\n",
    "Dict[(0, 1)]"
   ]
  },
  {
   "cell_type": "code",
   "execution_count": 15,
   "id": "fbfb38da-40a2-47c2-8382-6d937fd99578",
   "metadata": {},
   "outputs": [
    {
     "data": {
      "text/plain": [
       "{'Name': 'Ziaul Haque',\n",
       " 'DOB': '1987',\n",
       " 'place of birth': 'kishanganj',\n",
       " 'matric': '2002',\n",
       " 'inter': '2004',\n",
       " 'dpharm': '2006'}"
      ]
     },
     "execution_count": 15,
     "metadata": {},
     "output_type": "execute_result"
    }
   ],
   "source": [
    "Dict= {\"Name\":\"Ziaul Haque\", \"DOB\":'1987',\"place of birth\":'kishanganj', \"matric\":'2002',\"inter\":'2004', \"dpharm\":'2006'}\n",
    "Dict"
   ]
  },
  {
   "cell_type": "code",
   "execution_count": 16,
   "id": "912a5a9a-850f-488c-af5e-09fcf861f080",
   "metadata": {},
   "outputs": [
    {
     "data": {
      "text/plain": [
       "dict_keys(['Name', 'DOB', 'place of birth', 'matric', 'inter', 'dpharm'])"
      ]
     },
     "execution_count": 16,
     "metadata": {},
     "output_type": "execute_result"
    }
   ],
   "source": [
    "# Get all the keys in dictionary\n",
    "Dict.keys()"
   ]
  },
  {
   "cell_type": "code",
   "execution_count": 17,
   "id": "8e60b31e-f224-4f8b-bdd3-4b05eda0a5a2",
   "metadata": {},
   "outputs": [
    {
     "data": {
      "text/plain": [
       "dict_values(['Ziaul Haque', '1987', 'kishanganj', '2002', '2004', '2006'])"
      ]
     },
     "execution_count": 17,
     "metadata": {},
     "output_type": "execute_result"
    }
   ],
   "source": [
    "# Get all the values in dictionary\n",
    "Dict.values()"
   ]
  },
  {
   "cell_type": "code",
   "execution_count": 23,
   "id": "952c1286-9959-4adf-9ae0-fbeb129acacc",
   "metadata": {},
   "outputs": [
    {
     "data": {
      "text/plain": [
       "{'Name': 'Ziaul Haque',\n",
       " 'DOB': '1987',\n",
       " 'place of birth': 'kishanganj',\n",
       " 'matric': '2002',\n",
       " 'inter': '2004',\n",
       " 'dpharm': '2009'}"
      ]
     },
     "execution_count": 23,
     "metadata": {},
     "output_type": "execute_result"
    }
   ],
   "source": [
    "# Append value with key into dictionary\n",
    "Dict['dpharm']='2009'\n",
    "Dict"
   ]
  },
  {
   "cell_type": "code",
   "execution_count": 37,
   "id": "2281627e-7437-40ac-a918-49282a59c029",
   "metadata": {},
   "outputs": [
    {
     "data": {
      "text/plain": [
       "{'Name': 'Ziaul Haque',\n",
       " 'DOB': '1987',\n",
       " 'place of birth': 'kishanganj',\n",
       " 'matric': '2002',\n",
       " 'inter': '2004',\n",
       " 'dpharm': '2006'}"
      ]
     },
     "execution_count": 37,
     "metadata": {},
     "output_type": "execute_result"
    }
   ],
   "source": [
    "Dict= {\"Name\":\"Ziaul Haque\", \"DOB\":'1987',\"place of birth\":'kishanganj', \"matric\":'2002',\"inter\":'2004', \"dpharm\":'2006'}\n",
    "Dict"
   ]
  },
  {
   "cell_type": "code",
   "execution_count": 42,
   "id": "5ebeb273-18a9-4575-b46f-aa1c7003fdc0",
   "metadata": {},
   "outputs": [
    {
     "data": {
      "text/plain": [
       "{'Name': 'Ziaul Haque',\n",
       " 'DOB': '1987',\n",
       " 'place of birth': 'kishanganj',\n",
       " 'matric': '2002',\n",
       " 'inter': '2004',\n",
       " 'dpharm': '2006'}"
      ]
     },
     "execution_count": 42,
     "metadata": {},
     "output_type": "execute_result"
    }
   ],
   "source": [
    "Dict= {\"Name\":\"Ziaul Haque\", \"DOB\":'1987',\"place of birth\":'kishanganj', \"matric\":'2002',\"inter\":'2004', \"dpharm\":'2006'}\n",
    "Dict"
   ]
  },
  {
   "cell_type": "code",
   "execution_count": 45,
   "id": "8a70962b-cf9f-42b9-a85a-2760975d9b53",
   "metadata": {},
   "outputs": [
    {
     "ename": "KeyError",
     "evalue": "'Name'",
     "output_type": "error",
     "traceback": [
      "\u001b[0;31m---------------------------------------------------------------------------\u001b[0m",
      "\u001b[0;31mKeyError\u001b[0m                                  Traceback (most recent call last)",
      "\u001b[0;32m/tmp/ipykernel_375/7613228.py\u001b[0m in \u001b[0;36m<module>\u001b[0;34m\u001b[0m\n\u001b[0;32m----> 1\u001b[0;31m \u001b[0;32mdel\u001b[0m\u001b[0;34m(\u001b[0m\u001b[0mDict\u001b[0m\u001b[0;34m[\u001b[0m\u001b[0;34m\"Name\"\u001b[0m\u001b[0;34m]\u001b[0m\u001b[0;34m)\u001b[0m\u001b[0;34m\u001b[0m\u001b[0;34m\u001b[0m\u001b[0m\n\u001b[0m\u001b[1;32m      2\u001b[0m \u001b[0mDict\u001b[0m\u001b[0;34m\u001b[0m\u001b[0;34m\u001b[0m\u001b[0m\n",
      "\u001b[0;31mKeyError\u001b[0m: 'Name'"
     ]
    }
   ],
   "source": [
    "del(Dict[\"Name\"])\n",
    "Dict"
   ]
  },
  {
   "cell_type": "code",
   "execution_count": null,
   "id": "4834fd46-7e12-4c25-adcc-0694fc630d5f",
   "metadata": {},
   "outputs": [],
   "source": []
  }
 ],
 "metadata": {
  "kernelspec": {
   "display_name": "Python",
   "language": "python",
   "name": "conda-env-python-py"
  },
  "language_info": {
   "codemirror_mode": {
    "name": "ipython",
    "version": 3
   },
   "file_extension": ".py",
   "mimetype": "text/x-python",
   "name": "python",
   "nbconvert_exporter": "python",
   "pygments_lexer": "ipython3",
   "version": "3.7.12"
  }
 },
 "nbformat": 4,
 "nbformat_minor": 5
}
