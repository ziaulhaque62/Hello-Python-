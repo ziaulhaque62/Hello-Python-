{
 "cells": [
  {
   "cell_type": "markdown",
   "id": "c6854ad3-be11-4432-bc25-99531605b12b",
   "metadata": {},
   "source": [
    "# Tuples in Python"
   ]
  },
  {
   "cell_type": "markdown",
   "id": "6fc64389-f885-4ddd-a9e1-7e5aed1584b7",
   "metadata": {},
   "source": [
    "#### Tuples"
   ]
  },
  {
   "cell_type": "code",
   "execution_count": null,
   "id": "ec95973f-05c6-4a33-9da5-bf3469168b8e",
   "metadata": {},
   "outputs": [],
   "source": [
    "In Python, there are different data types: string, integer, and float. These data types can all be contained in a tuple as follows:\n"
   ]
  },
  {
   "cell_type": "markdown",
   "id": "8810ef6d-1f89-4bf1-a26a-cbd38c2ba681",
   "metadata": {},
   "source": [
    "### Indexing "
   ]
  },
  {
   "cell_type": "markdown",
   "id": "e3f3e91b-a4d7-4756-8ff6-f3db30063f7c",
   "metadata": {},
   "source": [
    "Each element of a tuple can be accessed via an index. The following table represents the relationship between the index and the items in the tuple. Each element can be obtained by the name of the tuple followed by a square bracket with the index number:\n"
   ]
  },
  {
   "cell_type": "code",
   "execution_count": 17,
   "id": "4ec751a8-0782-42c4-9c02-3f965e75e160",
   "metadata": {},
   "outputs": [
    {
     "data": {
      "text/plain": [
       "('rice', 56, 60.7, 'lion')"
      ]
     },
     "execution_count": 17,
     "metadata": {},
     "output_type": "execute_result"
    }
   ],
   "source": [
    "tuple1 = (\"rice\",56,60.7,\"lion\")\n",
    "tuple1"
   ]
  },
  {
   "cell_type": "code",
   "execution_count": 18,
   "id": "1d9cae24-59d0-487a-a74e-73a74560c4f7",
   "metadata": {},
   "outputs": [
    {
     "data": {
      "text/plain": [
       "tuple"
      ]
     },
     "execution_count": 18,
     "metadata": {},
     "output_type": "execute_result"
    }
   ],
   "source": [
    "type(tuple1)"
   ]
  },
  {
   "cell_type": "code",
   "execution_count": 21,
   "id": "f0f37611-6ded-4fc3-adac-5c945d3730bf",
   "metadata": {},
   "outputs": [
    {
     "name": "stdout",
     "output_type": "stream",
     "text": [
      "rice\n",
      "56\n",
      "60.7\n",
      "lion\n"
     ]
    }
   ],
   "source": [
    "# print the variable on each index\n",
    "print(tuple1[0])\n",
    "print(tuple1[1])\n",
    "print(tuple1[2])\n",
    "print(tuple1[3])"
   ]
  },
  {
   "cell_type": "code",
   "execution_count": 25,
   "id": "32640986-9b8b-4949-9fee-b3a8ab0ef968",
   "metadata": {},
   "outputs": [
    {
     "name": "stdout",
     "output_type": "stream",
     "text": [
      "<class 'str'>\n"
     ]
    }
   ],
   "source": [
    "print(type(tuple1[3]))"
   ]
  },
  {
   "cell_type": "code",
   "execution_count": 26,
   "id": "2d5c10c4-488e-4906-b6f4-11be8b1917d1",
   "metadata": {},
   "outputs": [
    {
     "name": "stdout",
     "output_type": "stream",
     "text": [
      "<class 'float'>\n"
     ]
    }
   ],
   "source": [
    "print(type(tuple1[2]))"
   ]
  },
  {
   "cell_type": "code",
   "execution_count": 28,
   "id": "4c91a30a-f7fb-43b6-b3d2-0da4d2542f3a",
   "metadata": {},
   "outputs": [
    {
     "data": {
      "text/plain": [
       "'lion'"
      ]
     },
     "execution_count": 28,
     "metadata": {},
     "output_type": "execute_result"
    }
   ],
   "source": [
    "# Use negative index to get the value of the last element\n",
    "tuple1[-1]"
   ]
  },
  {
   "cell_type": "code",
   "execution_count": 30,
   "id": "c0076424-9283-4b5e-9134-96a78a2958f7",
   "metadata": {},
   "outputs": [
    {
     "data": {
      "text/plain": [
       "60.7"
      ]
     },
     "execution_count": 30,
     "metadata": {},
     "output_type": "execute_result"
    }
   ],
   "source": [
    "# Use negative index to get the value of the second last element\n",
    "tuple1[-2]"
   ]
  },
  {
   "cell_type": "markdown",
   "id": "a2d7d35e-1eef-4a10-8ea0-2a10acf6d6c1",
   "metadata": {},
   "source": [
    "### Concatenate tuple"
   ]
  },
  {
   "cell_type": "markdown",
   "id": "510bbe6c-5460-4743-901a-d0cd2e148113",
   "metadata": {},
   "source": [
    "We can concatenate or combine tuples by using the **+** sign:\n"
   ]
  },
  {
   "cell_type": "code",
   "execution_count": 31,
   "id": "6afa53ad-8501-43d3-b02f-64c3a6ba1b70",
   "metadata": {},
   "outputs": [
    {
     "data": {
      "text/plain": [
       "('rice', 56, 60.7, 'lion', 'pump', 100, 0.78)"
      ]
     },
     "execution_count": 31,
     "metadata": {},
     "output_type": "execute_result"
    }
   ],
   "source": [
    "# Concatenate two tuples\n",
    "tuple2= tuple1 + (\"pump\",100,0.78)\n",
    "tuple2\n"
   ]
  },
  {
   "cell_type": "markdown",
   "id": "ab15c045-7e0a-4537-bcbd-bcc736f2bc81",
   "metadata": {},
   "source": [
    "We can slice tuples obtaining multiple values as demonstrated by the figure below:\n"
   ]
  },
  {
   "cell_type": "code",
   "execution_count": 34,
   "id": "ca716602-b83a-45da-b65c-39dc87cd5994",
   "metadata": {},
   "outputs": [
    {
     "data": {
      "text/plain": [
       "('rice', 56)"
      ]
     },
     "execution_count": 34,
     "metadata": {},
     "output_type": "execute_result"
    }
   ],
   "source": [
    "tuple2[0:2]"
   ]
  },
  {
   "cell_type": "code",
   "execution_count": 36,
   "id": "3bd6b073-a26c-4edd-ab84-86c4f2777b07",
   "metadata": {},
   "outputs": [
    {
     "data": {
      "text/plain": [
       "('lion',)"
      ]
     },
     "execution_count": 36,
     "metadata": {},
     "output_type": "execute_result"
    }
   ],
   "source": [
    "tuple2[3:4]"
   ]
  },
  {
   "cell_type": "code",
   "execution_count": 37,
   "id": "33be7126-b5a4-486b-a178-6e1dd9f7f54f",
   "metadata": {},
   "outputs": [
    {
     "data": {
      "text/plain": [
       "7"
      ]
     },
     "execution_count": 37,
     "metadata": {},
     "output_type": "execute_result"
    }
   ],
   "source": [
    "# Get the length of tuple\n",
    "len(tuple2)"
   ]
  },
  {
   "cell_type": "markdown",
   "id": "88862068-f7a8-46d0-85cc-fb843676d957",
   "metadata": {},
   "source": [
    "### Sorting"
   ]
  },
  {
   "cell_type": "code",
   "execution_count": 42,
   "id": "85345861-533f-4a3f-8bdc-4e70ec58fd16",
   "metadata": {},
   "outputs": [
    {
     "data": {
      "text/plain": [
       "[10, 23, 35, 45, 65, 78, 89, 90]"
      ]
     },
     "execution_count": 42,
     "metadata": {},
     "output_type": "execute_result"
    }
   ],
   "source": [
    "numbers = (10,45,65,78,23,90,35,89)\n",
    "\n",
    "# Sort the tuple\n",
    "sortednumbers= sorted(numbers)\n",
    "sortednumbers"
   ]
  },
  {
   "cell_type": "markdown",
   "id": "155d90ce-8a77-475d-b6b9-5a2c7e18f098",
   "metadata": {},
   "source": [
    "### Nested Tuple"
   ]
  },
  {
   "cell_type": "markdown",
   "id": "e8149564-740e-4439-ac53-7350e0805407",
   "metadata": {},
   "source": [
    "A tuple can contain another tuple as well as other more complex data types. This process is called 'nesting'. Consider the following tuple with several elements:\n"
   ]
  },
  {
   "cell_type": "code",
   "execution_count": 43,
   "id": "1539510a-343b-4a2e-a7d6-728688833f8b",
   "metadata": {},
   "outputs": [
    {
     "data": {
      "text/plain": [
       "(5, (5, 7), 'water', 'ice', (8, 11))"
      ]
     },
     "execution_count": 43,
     "metadata": {},
     "output_type": "execute_result"
    }
   ],
   "source": [
    "# Craete a Nest Tuple\n",
    "nest=(5,(5,7),'water','ice',(8,11))\n",
    "nest\n",
    "\n"
   ]
  },
  {
   "cell_type": "code",
   "execution_count": 44,
   "id": "38985f24-5420-4ca8-b495-e293687231af",
   "metadata": {},
   "outputs": [
    {
     "data": {
      "text/plain": [
       "(5, 7)"
      ]
     },
     "execution_count": 44,
     "metadata": {},
     "output_type": "execute_result"
    }
   ],
   "source": [
    "nest[1]"
   ]
  },
  {
   "cell_type": "code",
   "execution_count": 45,
   "id": "cd74c047-4c36-40f7-bd07-3ffafecd694c",
   "metadata": {},
   "outputs": [
    {
     "data": {
      "text/plain": [
       "'r'"
      ]
     },
     "execution_count": 45,
     "metadata": {},
     "output_type": "execute_result"
    }
   ],
   "source": [
    "nest[2][4]"
   ]
  },
  {
   "cell_type": "code",
   "execution_count": 50,
   "id": "17ee687b-a116-443f-9151-6318e794fd9e",
   "metadata": {},
   "outputs": [
    {
     "data": {
      "text/plain": [
       "7"
      ]
     },
     "execution_count": 50,
     "metadata": {},
     "output_type": "execute_result"
    }
   ],
   "source": [
    "nest[1][1]"
   ]
  },
  {
   "cell_type": "code",
   "execution_count": 52,
   "id": "5a1afd47-c77d-43b8-a393-f174310391af",
   "metadata": {},
   "outputs": [
    {
     "data": {
      "text/plain": [
       "('river', 'sea', 'ocean', 'atlantic')"
      ]
     },
     "execution_count": 52,
     "metadata": {},
     "output_type": "execute_result"
    }
   ],
   "source": [
    "tuple3= ('river','sea','ocean','atlantic')\n",
    "tuple3"
   ]
  },
  {
   "cell_type": "code",
   "execution_count": 53,
   "id": "84bc5280-9818-45d5-bfae-93f11d44d31f",
   "metadata": {},
   "outputs": [
    {
     "data": {
      "text/plain": [
       "'e'"
      ]
     },
     "execution_count": 53,
     "metadata": {},
     "output_type": "execute_result"
    }
   ],
   "source": [
    "tuple3[1][1]"
   ]
  },
  {
   "cell_type": "code",
   "execution_count": 61,
   "id": "165977fe-8799-4539-920c-1f6dbb76f53f",
   "metadata": {},
   "outputs": [
    {
     "data": {
      "text/plain": [
       "'r'"
      ]
     },
     "execution_count": 61,
     "metadata": {},
     "output_type": "execute_result"
    }
   ],
   "source": [
    "tuple3[0][0]"
   ]
  },
  {
   "cell_type": "code",
   "execution_count": 62,
   "id": "3912607a-0339-4ce4-83ea-d5795b951c10",
   "metadata": {},
   "outputs": [
    {
     "data": {
      "text/plain": [
       "('fire', ('lighter', 56), 45, 67)"
      ]
     },
     "execution_count": 62,
     "metadata": {},
     "output_type": "execute_result"
    }
   ],
   "source": [
    "tuple4=('fire',('lighter',56),45,67)\n",
    "tuple4"
   ]
  },
  {
   "cell_type": "code",
   "execution_count": 63,
   "id": "3745aa10-b8b7-472d-b9f8-e17a901a689d",
   "metadata": {},
   "outputs": [
    {
     "data": {
      "text/plain": [
       "'e'"
      ]
     },
     "execution_count": 63,
     "metadata": {},
     "output_type": "execute_result"
    }
   ],
   "source": [
    "tuple4[0][3]"
   ]
  },
  {
   "cell_type": "code",
   "execution_count": 67,
   "id": "02faa4af-d774-47db-905b-7845d42f6caa",
   "metadata": {},
   "outputs": [
    {
     "data": {
      "text/plain": [
       "'i'"
      ]
     },
     "execution_count": 67,
     "metadata": {},
     "output_type": "execute_result"
    }
   ],
   "source": [
    "tuple4[1][0][1]"
   ]
  },
  {
   "cell_type": "code",
   "execution_count": null,
   "id": "666ca1a2-1346-45ce-9744-40e486678c08",
   "metadata": {},
   "outputs": [],
   "source": []
  }
 ],
 "metadata": {
  "kernelspec": {
   "display_name": "Python",
   "language": "python",
   "name": "conda-env-python-py"
  },
  "language_info": {
   "codemirror_mode": {
    "name": "ipython",
    "version": 3
   },
   "file_extension": ".py",
   "mimetype": "text/x-python",
   "name": "python",
   "nbconvert_exporter": "python",
   "pygments_lexer": "ipython3",
   "version": "3.7.12"
  }
 },
 "nbformat": 4,
 "nbformat_minor": 5
}
