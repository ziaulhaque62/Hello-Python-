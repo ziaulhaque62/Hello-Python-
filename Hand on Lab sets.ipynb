{
 "cells": [
  {
   "cell_type": "markdown",
   "id": "716bc923-702f-4aee-9924-83f20f8c6975",
   "metadata": {},
   "source": [
    "# Sets in Python"
   ]
  },
  {
   "cell_type": "markdown",
   "id": "c5f5a0c0-dc73-4221-bbf1-36c423852d77",
   "metadata": {},
   "source": [
    "### Sets\n",
    "A set is a unique collection of objects in Python. You can denote a set with a pair of curly brackets <b>{}</b>. Python will automatically remove duplicate items:\n"
   ]
  },
  {
   "cell_type": "code",
   "execution_count": 4,
   "id": "f73afeb4-1a82-41f8-839c-420f16b4c6ff",
   "metadata": {},
   "outputs": [
    {
     "data": {
      "text/plain": [
       "{'$', 35, 75.5, 'gujarat', 'punjab', 'rat'}"
      ]
     },
     "execution_count": 4,
     "metadata": {},
     "output_type": "execute_result"
    }
   ],
   "source": [
    "# Create a set \n",
    "set1 = {'gujarat','punjab',35,'$',75.5,'rat',35,'gujarat'}\n",
    "set1"
   ]
  },
  {
   "cell_type": "code",
   "execution_count": 5,
   "id": "24a9ba74-ffe5-4453-ace7-a89c9219df25",
   "metadata": {},
   "outputs": [
    {
     "data": {
      "text/plain": [
       "{43, 43.71, 64, 71, 95, 'cap'}"
      ]
     },
     "execution_count": 5,
     "metadata": {},
     "output_type": "execute_result"
    }
   ],
   "source": [
    "# Convert List to set\n",
    "l= [95,43.71,64,'cap',43,71]\n",
    "s=set(l)\n",
    "s"
   ]
  },
  {
   "cell_type": "code",
   "execution_count": 10,
   "id": "f4db956e-a2aa-4f6a-9f64-c2e5b14bb3e7",
   "metadata": {},
   "outputs": [
    {
     "data": {
      "text/plain": [
       "{100.5, 34, 56, 67, 'bucket', 'water', 'x'}"
      ]
     },
     "execution_count": 10,
     "metadata": {},
     "output_type": "execute_result"
    }
   ],
   "source": [
    "# Add element to set\n",
    "a={34,'bucket','water',67,56,100.5}\n",
    "a.add('x')\n",
    "a\n"
   ]
  },
  {
   "cell_type": "code",
   "execution_count": 11,
   "id": "2a780d65-4b28-4505-83b2-408f96ce02f1",
   "metadata": {},
   "outputs": [
    {
     "data": {
      "text/plain": [
       "{100.5, 34, 56, 67, 'bucket', 'water', 'x'}"
      ]
     },
     "execution_count": 11,
     "metadata": {},
     "output_type": "execute_result"
    }
   ],
   "source": [
    "a.add('x')\n",
    "a"
   ]
  },
  {
   "cell_type": "code",
   "execution_count": 12,
   "id": "7d8d1ff9-8ebb-4898-bd89-163f56a29e08",
   "metadata": {},
   "outputs": [
    {
     "data": {
      "text/plain": [
       "{100.5, 34, 56, 67, 'water', 'x'}"
      ]
     },
     "execution_count": 12,
     "metadata": {},
     "output_type": "execute_result"
    }
   ],
   "source": [
    "# Remove an element\n",
    "a.remove('bucket')\n",
    "a"
   ]
  },
  {
   "cell_type": "code",
   "execution_count": 13,
   "id": "df9f3010-281c-4a78-9027-cd21837fa5e2",
   "metadata": {},
   "outputs": [
    {
     "data": {
      "text/plain": [
       "True"
      ]
     },
     "execution_count": 13,
     "metadata": {},
     "output_type": "execute_result"
    }
   ],
   "source": [
    "# Verify element in set\n",
    "'water' in a"
   ]
  },
  {
   "cell_type": "markdown",
   "id": "abf8eaa6-75d1-43c7-a447-80665b20fc8f",
   "metadata": {},
   "source": [
    "### Set logic operations\n",
    "Remember that with sets you can check the difference between sets, as well as the symmetric difference, intersection, and union:\n"
   ]
  },
  {
   "cell_type": "code",
   "execution_count": 14,
   "id": "168f42a2-a17a-4f7c-9f68-774533d2d4f1",
   "metadata": {},
   "outputs": [
    {
     "data": {
      "text/plain": [
       "({34, 45, 7, 8, 90, 'gh', 'ur'}, {16, 45, 78, 8, 'air', 'sun'})"
      ]
     },
     "execution_count": 14,
     "metadata": {},
     "output_type": "execute_result"
    }
   ],
   "source": [
    "A={34,7,90,8,'ur','gh',45}\n",
    "B={78,8,'air','sun',16,45}\n",
    "A,B\n"
   ]
  },
  {
   "cell_type": "code",
   "execution_count": 15,
   "id": "49003684-de1e-4137-ab44-1ee89e5fc0c7",
   "metadata": {},
   "outputs": [
    {
     "data": {
      "text/plain": [
       "{8, 45}"
      ]
     },
     "execution_count": 15,
     "metadata": {},
     "output_type": "execute_result"
    }
   ],
   "source": [
    "# Find intersection in two sets\n",
    "intersection=A&B\n",
    "intersection\n"
   ]
  },
  {
   "cell_type": "code",
   "execution_count": 16,
   "id": "435f126e-41f4-4af2-97e7-19589fd3cbf8",
   "metadata": {},
   "outputs": [
    {
     "data": {
      "text/plain": [
       "{34, 7, 90, 'gh', 'ur'}"
      ]
     },
     "execution_count": 16,
     "metadata": {},
     "output_type": "execute_result"
    }
   ],
   "source": [
    "# Find the difference in setA but not setB\n",
    "A.difference(B)\n"
   ]
  },
  {
   "cell_type": "code",
   "execution_count": 17,
   "id": "c5d3343f-a714-4bc9-b4bf-0d6b1dffb3de",
   "metadata": {},
   "outputs": [
    {
     "data": {
      "text/plain": [
       "{16, 78, 'air', 'sun'}"
      ]
     },
     "execution_count": 17,
     "metadata": {},
     "output_type": "execute_result"
    }
   ],
   "source": [
    "B.difference(A)"
   ]
  },
  {
   "cell_type": "code",
   "execution_count": 18,
   "id": "167a9861-6d44-4b35-8f29-1ae146e19406",
   "metadata": {},
   "outputs": [
    {
     "data": {
      "text/plain": [
       "{8, 45}"
      ]
     },
     "execution_count": 18,
     "metadata": {},
     "output_type": "execute_result"
    }
   ],
   "source": [
    "A.intersection(B)"
   ]
  },
  {
   "cell_type": "markdown",
   "id": "ebdce06f-7984-4f35-8f17-dc8d3d26bcfd",
   "metadata": {},
   "source": [
    "The union corresponds to all the elements in both sets, which is represented by coloring both circles:\n"
   ]
  },
  {
   "cell_type": "code",
   "execution_count": 19,
   "id": "405b9400-26d0-4fb9-a921-e6d00b308b0e",
   "metadata": {},
   "outputs": [
    {
     "data": {
      "text/plain": [
       "{16, 34, 45, 7, 78, 8, 90, 'air', 'gh', 'sun', 'ur'}"
      ]
     },
     "execution_count": 19,
     "metadata": {},
     "output_type": "execute_result"
    }
   ],
   "source": [
    "# Find the union of two sets\n",
    "A.union(B)"
   ]
  },
  {
   "cell_type": "markdown",
   "id": "1d2e870d-f46f-40c9-89d7-671553a96c9f",
   "metadata": {},
   "source": [
    "And you can check if a set is a superset or subset of another set, respectively, like this:\n"
   ]
  },
  {
   "cell_type": "code",
   "execution_count": 20,
   "id": "240690d3-ad6d-41d7-9d3b-bcedc3ec8843",
   "metadata": {},
   "outputs": [
    {
     "data": {
      "text/plain": [
       "False"
      ]
     },
     "execution_count": 20,
     "metadata": {},
     "output_type": "execute_result"
    }
   ],
   "source": [
    "# Check if superset\n",
    "set(A).issuperset(B)\n"
   ]
  },
  {
   "cell_type": "code",
   "execution_count": 22,
   "id": "43c7933e-f249-42ef-85d3-8572cfd0e324",
   "metadata": {},
   "outputs": [
    {
     "data": {
      "text/plain": [
       "False"
      ]
     },
     "execution_count": 22,
     "metadata": {},
     "output_type": "execute_result"
    }
   ],
   "source": [
    "# Check if Subset\n",
    "set(B).issubset(A)"
   ]
  },
  {
   "cell_type": "code",
   "execution_count": 23,
   "id": "a5a3a6c8-319b-4f97-95d5-4001f91a7a3b",
   "metadata": {},
   "outputs": [
    {
     "data": {
      "text/plain": [
       "True"
      ]
     },
     "execution_count": 23,
     "metadata": {},
     "output_type": "execute_result"
    }
   ],
   "source": [
    "{34}.issubset(A)"
   ]
  },
  {
   "cell_type": "code",
   "execution_count": 24,
   "id": "3a304d9b-cb1f-407f-8133-7509fcaa5ce5",
   "metadata": {},
   "outputs": [
    {
     "data": {
      "text/plain": [
       "False"
      ]
     },
     "execution_count": 24,
     "metadata": {},
     "output_type": "execute_result"
    }
   ],
   "source": [
    "A.issuperset('gh')"
   ]
  },
  {
   "cell_type": "code",
   "execution_count": null,
   "id": "ecd89050-13a0-4934-9200-ce845b8a5c35",
   "metadata": {},
   "outputs": [],
   "source": []
  }
 ],
 "metadata": {
  "kernelspec": {
   "display_name": "Python",
   "language": "python",
   "name": "conda-env-python-py"
  },
  "language_info": {
   "codemirror_mode": {
    "name": "ipython",
    "version": 3
   },
   "file_extension": ".py",
   "mimetype": "text/x-python",
   "name": "python",
   "nbconvert_exporter": "python",
   "pygments_lexer": "ipython3",
   "version": "3.7.12"
  }
 },
 "nbformat": 4,
 "nbformat_minor": 5
}
