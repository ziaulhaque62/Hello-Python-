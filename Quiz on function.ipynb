{
 "cells": [
  {
   "cell_type": "markdown",
   "id": "6b6fcb56",
   "metadata": {},
   "source": [
    "# Functions in Python"
   ]
  },
  {
   "cell_type": "markdown",
   "id": "06d05475",
   "metadata": {},
   "source": [
    "#### Quiz on Function"
   ]
  },
  {
   "cell_type": "markdown",
   "id": "e3c4e745",
   "metadata": {},
   "source": [
    "Come up with a function that divides the first input by the second input:\n"
   ]
  },
  {
   "cell_type": "code",
   "execution_count": 12,
   "id": "05602d0b",
   "metadata": {},
   "outputs": [
    {
     "data": {
      "text/plain": [
       "1.0"
      ]
     },
     "execution_count": 12,
     "metadata": {},
     "output_type": "execute_result"
    }
   ],
   "source": [
    "# Write your code below and press Shift+Enter to execute\n",
    "def divide(a):\n",
    "    b=3\n",
    "    c=a/b\n",
    "    return c\n",
    "divide(3)\n"
   ]
  },
  {
   "cell_type": "markdown",
   "id": "58f00af4",
   "metadata": {},
   "source": [
    "Use the function <code>con</code> for the following question.\n"
   ]
  },
  {
   "cell_type": "code",
   "execution_count": 13,
   "id": "16828c9a",
   "metadata": {},
   "outputs": [
    {
     "data": {
      "text/plain": [
       "9"
      ]
     },
     "execution_count": 13,
     "metadata": {},
     "output_type": "execute_result"
    }
   ],
   "source": [
    "# Use the con function for the following question\n",
    "\n",
    "def con(a,b):\n",
    "    c=a+b\n",
    "    return c\n",
    "con(4,5)"
   ]
  },
  {
   "cell_type": "code",
   "execution_count": 17,
   "id": "de23b156",
   "metadata": {},
   "outputs": [
    {
     "data": {
      "text/plain": [
       "'roseand lily'"
      ]
     },
     "execution_count": 17,
     "metadata": {},
     "output_type": "execute_result"
    }
   ],
   "source": [
    "def con(a,b):\n",
    "    c=a+b\n",
    "    return c\n",
    "con(\"rose\",\"and lily\")"
   ]
  },
  {
   "cell_type": "code",
   "execution_count": null,
   "id": "812b5902",
   "metadata": {},
   "outputs": [],
   "source": []
  }
 ],
 "metadata": {
  "kernelspec": {
   "display_name": "Python 3 (ipykernel)",
   "language": "python",
   "name": "python3"
  },
  "language_info": {
   "codemirror_mode": {
    "name": "ipython",
    "version": 3
   },
   "file_extension": ".py",
   "mimetype": "text/x-python",
   "name": "python",
   "nbconvert_exporter": "python",
   "pygments_lexer": "ipython3",
   "version": "3.9.7"
  }
 },
 "nbformat": 4,
 "nbformat_minor": 5
}
