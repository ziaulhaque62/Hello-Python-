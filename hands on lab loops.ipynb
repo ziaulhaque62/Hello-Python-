{
 "cells": [
  {
   "cell_type": "markdown",
   "id": "93cfab31-b638-4e67-a38d-c004ccbd34ab",
   "metadata": {},
   "source": [
    "# Loops in Python\n"
   ]
  },
  {
   "cell_type": "code",
   "execution_count": 2,
   "id": "b075236a-2918-4b1b-b8f3-f541dc8d059e",
   "metadata": {},
   "outputs": [
    {
     "data": {
      "text/plain": [
       "range(0, 5)"
      ]
     },
     "execution_count": 2,
     "metadata": {},
     "output_type": "execute_result"
    }
   ],
   "source": [
    "# Use the Range\n",
    "range(5)\n"
   ]
  },
  {
   "cell_type": "code",
   "execution_count": 6,
   "id": "9ae574a1-33ce-4db6-ab4a-5912fbe14d03",
   "metadata": {},
   "outputs": [
    {
     "name": "stdout",
     "output_type": "stream",
     "text": [
      "1983\n",
      "1990\n",
      "1991\n"
     ]
    }
   ],
   "source": [
    "dates = [1983,1990,1991]\n",
    "N=len(dates)\n",
    "for i in range(N):\n",
    "    print(dates[i])\n"
   ]
  },
  {
   "cell_type": "code",
   "execution_count": 8,
   "id": "01c255a4-5d0f-4b9e-b7eb-511ae3788862",
   "metadata": {},
   "outputs": [
    {
     "name": "stdout",
     "output_type": "stream",
     "text": [
      "45\n",
      "78\n",
      "78\n",
      "90\n",
      "22\n",
      "0\n"
     ]
    }
   ],
   "source": [
    "number=[45,78,78,90,22,0]\n",
    "N=len(number)\n",
    "for i in range(N):\n",
    "    print(number[i])"
   ]
  },
  {
   "cell_type": "code",
   "execution_count": 9,
   "id": "f7553698-0594-494c-b2b7-be560fa72645",
   "metadata": {},
   "outputs": [
    {
     "name": "stdout",
     "output_type": "stream",
     "text": [
      "0\n",
      "1\n",
      "2\n",
      "3\n",
      "4\n",
      "5\n",
      "6\n",
      "7\n",
      "8\n",
      "9\n"
     ]
    }
   ],
   "source": [
    "# Example for loop\n",
    "for x in range(0,10):\n",
    "    print(x)\n"
   ]
  },
  {
   "cell_type": "code",
   "execution_count": 10,
   "id": "d3e4177d-dceb-4ba0-8e5d-3820dea74cb7",
   "metadata": {},
   "outputs": [
    {
     "name": "stdout",
     "output_type": "stream",
     "text": [
      "1983\n",
      "1990\n",
      "1991\n"
     ]
    }
   ],
   "source": [
    "# Exmaple of for loop, loop through list\n",
    "for year in dates:\n",
    "    print(year)\n"
   ]
  },
  {
   "cell_type": "code",
   "execution_count": 14,
   "id": "c0ebbea3-415b-456d-973a-7774b849b128",
   "metadata": {},
   "outputs": [
    {
     "name": "stdout",
     "output_type": "stream",
     "text": [
      "before x 0 is 67\n",
      "after x 0 is 100\n",
      "before x 1 is 9\n",
      "after x 1 is 100\n",
      "before x 2 is 0\n",
      "after x 2 is 100\n",
      "before x 3 is 2\n",
      "after x 3 is 100\n",
      "before x 4 is 9\n",
      "after x 4 is 100\n",
      "before x 5 is 12\n",
      "after x 5 is 100\n",
      "before x 6 is 20\n",
      "after x 6 is 100\n"
     ]
    }
   ],
   "source": [
    "x=[67,9,0,2,9,12,20]\n",
    "for i in range(0,7):\n",
    "    print(\"before x\",i,'is',x[i])\n",
    "    x[i]=100\n",
    "    print('after x',i,'is',x[i])"
   ]
  },
  {
   "cell_type": "code",
   "execution_count": 15,
   "id": "7a2899ef-4a69-44c3-bc8f-198386a25b8e",
   "metadata": {},
   "outputs": [
    {
     "name": "stdout",
     "output_type": "stream",
     "text": [
      "Before square  0 is red\n",
      "After square  0 is white\n",
      "Before square  1 is yellow\n",
      "After square  1 is white\n",
      "Before square  2 is green\n",
      "After square  2 is white\n",
      "Before square  3 is purple\n",
      "After square  3 is white\n",
      "Before square  4 is blue\n",
      "After square  4 is white\n"
     ]
    }
   ],
   "source": [
    "# Use for loop to change the elements in list\n",
    "\n",
    "squares = ['red', 'yellow', 'green', 'purple', 'blue']\n",
    "\n",
    "for i in range(0, 5):\n",
    "    print(\"Before square \", i, 'is',  squares[i])\n",
    "    squares[i] = 'white'\n",
    "    print(\"After square \", i, 'is',  squares[i])"
   ]
  },
  {
   "cell_type": "code",
   "execution_count": 16,
   "id": "43b6f94f-93a9-425f-a06c-aabd50899f5c",
   "metadata": {},
   "outputs": [
    {
     "name": "stdout",
     "output_type": "stream",
     "text": [
      "0 red\n",
      "1 yellow\n",
      "2 green\n",
      "3 purple\n",
      "4 blue\n"
     ]
    }
   ],
   "source": [
    "# Loop through the list and iterate on both index and element value\n",
    "\n",
    "squares=['red', 'yellow', 'green', 'purple', 'blue']\n",
    "\n",
    "for i, square in enumerate(squares):\n",
    "    print(i, square)"
   ]
  },
  {
   "cell_type": "code",
   "execution_count": 17,
   "id": "554122e0-a65f-4cc8-98c5-470a4966b308",
   "metadata": {},
   "outputs": [
    {
     "name": "stdout",
     "output_type": "stream",
     "text": [
      "0 67\n",
      "1 9\n",
      "2 0\n",
      "3 2\n",
      "4 9\n",
      "5 12\n",
      "6 20\n"
     ]
    }
   ],
   "source": [
    "x=[67,9,0,2,9,12,20]\n",
    "for i,x in enumerate(x):\n",
    "    print(i,x)"
   ]
  },
  {
   "cell_type": "markdown",
   "id": "eb9bee05-e622-4de5-8206-2ef6a132a483",
   "metadata": {},
   "source": [
    "### while in loop"
   ]
  },
  {
   "cell_type": "code",
   "execution_count": 18,
   "id": "bf4cf28a-01d1-47fa-af37-4a2b0978e7f2",
   "metadata": {},
   "outputs": [
    {
     "name": "stdout",
     "output_type": "stream",
     "text": [
      "1982\n",
      "1980\n",
      "It took  2 repetitions to get out of loop.\n"
     ]
    }
   ],
   "source": [
    "# While Loop Example\n",
    "\n",
    "dates = [1982, 1980, 1973, 2000]\n",
    "\n",
    "i = 0\n",
    "year = dates[0]\n",
    "\n",
    "while(year != 1973):    \n",
    "    print(year)\n",
    "    i = i + 1\n",
    "    year = dates[i]\n",
    "    \n",
    "\n",
    "print(\"It took \", i ,\"repetitions to get out of loop.\")"
   ]
  },
  {
   "cell_type": "code",
   "execution_count": 4,
   "id": "5721152b-7efb-4346-a3cc-1ed12b6d29f2",
   "metadata": {},
   "outputs": [
    {
     "name": "stdout",
     "output_type": "stream",
     "text": [
      "darbhanga\n",
      "Patna\n"
     ]
    },
    {
     "ename": "IndexError",
     "evalue": "list index out of range",
     "output_type": "error",
     "traceback": [
      "\u001b[0;31m---------------------------------------------------------------------------\u001b[0m",
      "\u001b[0;31mIndexError\u001b[0m                                Traceback (most recent call last)",
      "\u001b[0;32m/tmp/ipykernel_356/2136459201.py\u001b[0m in \u001b[0;36m<module>\u001b[0;34m\u001b[0m\n\u001b[1;32m      5\u001b[0m     \u001b[0mprint\u001b[0m\u001b[0;34m(\u001b[0m\u001b[0mtown\u001b[0m\u001b[0;34m)\u001b[0m\u001b[0;34m\u001b[0m\u001b[0;34m\u001b[0m\u001b[0m\n\u001b[1;32m      6\u001b[0m     \u001b[0mi\u001b[0m\u001b[0;34m=\u001b[0m\u001b[0mi\u001b[0m\u001b[0;34m+\u001b[0m\u001b[0;36m2\u001b[0m\u001b[0;34m\u001b[0m\u001b[0;34m\u001b[0m\u001b[0m\n\u001b[0;32m----> 7\u001b[0;31m     \u001b[0mtown\u001b[0m\u001b[0;34m=\u001b[0m\u001b[0mcity\u001b[0m\u001b[0;34m[\u001b[0m\u001b[0mi\u001b[0m\u001b[0;34m+\u001b[0m\u001b[0;36m2\u001b[0m\u001b[0;34m]\u001b[0m\u001b[0;34m\u001b[0m\u001b[0;34m\u001b[0m\u001b[0m\n\u001b[0m",
      "\u001b[0;31mIndexError\u001b[0m: list index out of range"
     ]
    }
   ],
   "source": [
    "city=[\"darbhanga\",\"Katihar\",\"Purnia\",\"Araria\",\"Patna\"]\n",
    "i=0\n",
    "town=city[0]\n",
    "while(town!=\"Araria\"):\n",
    "    print(town)\n",
    "    i=i+2\n",
    "    town=city[i+2]"
   ]
  },
  {
   "cell_type": "code",
   "execution_count": null,
   "id": "14873b98-ada7-4548-995e-ed13b9064f9f",
   "metadata": {},
   "outputs": [],
   "source": []
  }
 ],
 "metadata": {
  "kernelspec": {
   "display_name": "Python",
   "language": "python",
   "name": "conda-env-python-py"
  },
  "language_info": {
   "codemirror_mode": {
    "name": "ipython",
    "version": 3
   },
   "file_extension": ".py",
   "mimetype": "text/x-python",
   "name": "python",
   "nbconvert_exporter": "python",
   "pygments_lexer": "ipython3",
   "version": "3.7.12"
  }
 },
 "nbformat": 4,
 "nbformat_minor": 5
}
