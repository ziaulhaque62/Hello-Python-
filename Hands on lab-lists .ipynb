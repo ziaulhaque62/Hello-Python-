{
 "cells": [
  {
   "cell_type": "markdown",
   "id": "55aff1db-915a-4cd7-95a7-95519d00ca0a",
   "metadata": {},
   "source": [
    "# Lists in Python"
   ]
  },
  {
   "cell_type": "markdown",
   "id": "5073b7b0-5ebc-4c28-be16-302b2f3b441a",
   "metadata": {},
   "source": [
    "### Lists"
   ]
  },
  {
   "cell_type": "markdown",
   "id": "5af90a20-1208-44a4-8f0c-22f1c5e7ec9d",
   "metadata": {},
   "source": [
    "### Indexing "
   ]
  },
  {
   "cell_type": "markdown",
   "id": "54c44375-eae5-4bd7-861e-4b5a230550b4",
   "metadata": {},
   "source": [
    "We are going to take a look at lists in Python. A list is a sequenced collection of different objects such as integers, strings, and even other lists as well. The address of each element within a list is called an <b>index</b>. An index is used to access and refer to items within a list.\n"
   ]
  },
  {
   "cell_type": "markdown",
   "id": "a4737fa2-b421-4097-8ddc-6efbdcbfd8f6",
   "metadata": {},
   "source": [
    "To create a list, type the list within square brackets <b>\\[ ]</b>, with your content inside the parenthesis and separated by commas. Let’s try it!\n"
   ]
  },
  {
   "cell_type": "code",
   "execution_count": 4,
   "id": "d5505fed-b7b0-4749-9163-963805b74647",
   "metadata": {},
   "outputs": [
    {
     "data": {
      "text/plain": [
       "['fan', 'light', 'table', 45, 23, 'shoes']"
      ]
     },
     "execution_count": 4,
     "metadata": {},
     "output_type": "execute_result"
    }
   ],
   "source": [
    "# Sample List\n",
    "L=['fan','light', 'table',45,23,'shoes']\n",
    "L"
   ]
  },
  {
   "cell_type": "code",
   "execution_count": 10,
   "id": "45dd3f65-9280-4b40-9e55-7f50cbb46da3",
   "metadata": {},
   "outputs": [
    {
     "data": {
      "text/plain": [
       "(['fan'], [45, 23])"
      ]
     },
     "execution_count": 10,
     "metadata": {},
     "output_type": "execute_result"
    }
   ],
   "source": [
    "# List Slicing \n",
    "L[0:1],L[3:5]"
   ]
  },
  {
   "cell_type": "markdown",
   "id": "719788c1-e0dc-437b-9395-a88cfcec833b",
   "metadata": {},
   "source": [
    "We can add method 'extend' to add new elements to the list"
   ]
  },
  {
   "cell_type": "code",
   "execution_count": 12,
   "id": "b46f0ed4-172d-4ec7-bbbe-87a5d76f7d55",
   "metadata": {},
   "outputs": [
    {
     "data": {
      "text/plain": [
       "['fan', 'light', 'table', 45, 23, 'shoes', 'rack']"
      ]
     },
     "execution_count": 12,
     "metadata": {},
     "output_type": "execute_result"
    }
   ],
   "source": [
    "# Use extend to add elements to list\n",
    "L.extend(['rack'])\n",
    "L\n"
   ]
  },
  {
   "cell_type": "code",
   "execution_count": 13,
   "id": "dd4dcc4e-484b-4042-ad5b-e90f32d0d54d",
   "metadata": {},
   "outputs": [
    {
     "data": {
      "text/plain": [
       "['fan', 'light', 'table', 45, 23, 'shoes', 'rack', ['electricity']]"
      ]
     },
     "execution_count": 13,
     "metadata": {},
     "output_type": "execute_result"
    }
   ],
   "source": [
    "# Use append to add elemets to the list\n",
    "L.append(['electricity'])\n",
    "L\n"
   ]
  },
  {
   "cell_type": "markdown",
   "id": "cac6cb20-2578-455c-b767-b143a336a1c8",
   "metadata": {},
   "source": [
    "Another similar method is <code>append</code>. If we apply <code>append</code> instead of <code>extend</code>, we add one element to the list:\n"
   ]
  },
  {
   "cell_type": "markdown",
   "id": "9bc84822-28fe-45e9-9e8e-ca671df14dbc",
   "metadata": {},
   "source": [
    "Each time we apply a method, the list changes. If we apply <code>extend</code> we add two new elements to the list. The list <code>L</code> is then modified by adding two new elements:\n"
   ]
  },
  {
   "cell_type": "markdown",
   "id": "bd4516e1-610a-4bf0-b2be-70815fdbcb28",
   "metadata": {},
   "source": [
    "If we append the list  <code>\\['a','b']</code> we have one new element consisting of a nested list:\n"
   ]
  },
  {
   "cell_type": "markdown",
   "id": "023da7bd-aa17-4638-8d09-18bc2e17adab",
   "metadata": {},
   "source": [
    "#### As lists are mutable, we can change them. For example, we can change the first element as follows:\n"
   ]
  },
  {
   "cell_type": "code",
   "execution_count": 25,
   "id": "f01349f7-a594-453f-afca-5c7d8a90ed6b",
   "metadata": {},
   "outputs": [
    {
     "name": "stdout",
     "output_type": "stream",
     "text": [
      "before change: [45, 'grass', 'rice', 'wheat', 'pulses', 67]\n",
      "after change: [45, 'grass', 'rice', 'Oats', 'pulses', 67]\n"
     ]
    }
   ],
   "source": [
    "# Change the element based on the index\n",
    "\n",
    "B = [45,'grass','rice','wheat','pulses',67]\n",
    "print('before change:',B)\n",
    "B[3]= \"Oats\"\n",
    "print('after change:',B)\n",
    "\n",
    "\n"
   ]
  },
  {
   "cell_type": "markdown",
   "id": "01b07fe6-be3e-4596-9418-3063f58ab643",
   "metadata": {},
   "source": [
    "#### We can also delete an element of a list using the <code>del</code> command:\n"
   ]
  },
  {
   "cell_type": "code",
   "execution_count": 29,
   "id": "a95b6382-15b0-4934-8ebc-5a5cc33f9d52",
   "metadata": {},
   "outputs": [
    {
     "name": "stdout",
     "output_type": "stream",
     "text": [
      "before change: [56, 'college', 'school', 'university', 'board', 'notebook', 100]\n",
      "after change: [56, 'college', 'university', 'board', 'notebook', 100]\n"
     ]
    }
   ],
   "source": [
    "# Delete the element based on index\n",
    "C= [56,'college','school', 'university','board', 'notebook',100]\n",
    "print('before change:',C)\n",
    "del(C[2])\n",
    "print('after change:', C)\n",
    "\n"
   ]
  },
  {
   "cell_type": "markdown",
   "id": "9d987dea-f3a3-4a71-b9a9-58e5a58dab03",
   "metadata": {},
   "source": [
    "#### We can convert a string to a list using <code>split</code>.  For example, the method <code>split</code> translates every group of characters separated by a space into an element in a list:\n"
   ]
  },
  {
   "cell_type": "code",
   "execution_count": 30,
   "id": "c12802d1-40a1-472f-98cc-502878d4519f",
   "metadata": {},
   "outputs": [
    {
     "data": {
      "text/plain": [
       "['ziaul', 'haque']"
      ]
     },
     "execution_count": 30,
     "metadata": {},
     "output_type": "execute_result"
    }
   ],
   "source": [
    "# Split the string, default is by space\n",
    "'ziaul haque'.split()"
   ]
  },
  {
   "cell_type": "code",
   "execution_count": 31,
   "id": "53962b8f-885e-4313-a26e-35f6c1d35000",
   "metadata": {},
   "outputs": [
    {
     "data": {
      "text/plain": [
       "['ziaul']"
      ]
     },
     "execution_count": 31,
     "metadata": {},
     "output_type": "execute_result"
    }
   ],
   "source": [
    "\"ziaul\".split()"
   ]
  },
  {
   "cell_type": "code",
   "execution_count": 32,
   "id": "91962c1e-422a-4a4c-bcb5-f30ff7e0a0b0",
   "metadata": {},
   "outputs": [
    {
     "data": {
      "text/plain": [
       "['hard', 'rock']"
      ]
     },
     "execution_count": 32,
     "metadata": {},
     "output_type": "execute_result"
    }
   ],
   "source": [
    "'hard rock'.split()"
   ]
  },
  {
   "cell_type": "code",
   "execution_count": 33,
   "id": "e776e6a3-194c-4e52-b4d7-9d6e3765dc65",
   "metadata": {},
   "outputs": [
    {
     "data": {
      "text/plain": [
       "['z', 'i', 'a', 'u', 'l']"
      ]
     },
     "execution_count": 33,
     "metadata": {},
     "output_type": "execute_result"
    }
   ],
   "source": [
    "# Split the string by comma\n",
    "'z,i,a,u,l'.split(',')\n"
   ]
  },
  {
   "cell_type": "markdown",
   "id": "abf2d79e-188d-49d5-af1f-35b122343453",
   "metadata": {},
   "source": [
    "<h3 id=\"co\">Copy and Clone List</h3>\n"
   ]
  },
  {
   "cell_type": "markdown",
   "id": "1a30e4ee-5b5b-47dd-b036-f986016034c7",
   "metadata": {},
   "source": [
    "When we set one variable <b>B</b> equal to <b>A</b>, both <b>A</b> and <b>B</b> are referencing the same list in memory:\n"
   ]
  },
  {
   "cell_type": "code",
   "execution_count": 4,
   "id": "cb65ae04-a9dd-42c0-abdb-c76328d91886",
   "metadata": {},
   "outputs": [
    {
     "data": {
      "text/plain": [
       "['ringtable lamp', 'pen', 'note book', 'mobile']"
      ]
     },
     "execution_count": 4,
     "metadata": {},
     "output_type": "execute_result"
    }
   ],
   "source": [
    "# Clone (clone by value) the list A\n",
    "\n",
    "A=[\"ring\"\"table lamp\",'pen','note book','mobile']\n",
    "B=A[:]\n",
    "B"
   ]
  },
  {
   "cell_type": "code",
   "execution_count": 5,
   "id": "9ffb2020-0d8b-4f33-8003-26f074e82adb",
   "metadata": {},
   "outputs": [
    {
     "data": {
      "text/plain": [
       "'mobile'"
      ]
     },
     "execution_count": 5,
     "metadata": {},
     "output_type": "execute_result"
    }
   ],
   "source": [
    "B[3]"
   ]
  },
  {
   "cell_type": "code",
   "execution_count": 6,
   "id": "3fe69fa9-2352-4bcc-9b6f-5f91944af9e5",
   "metadata": {},
   "outputs": [
    {
     "name": "stdout",
     "output_type": "stream",
     "text": [
      "after chane: ['ringtable lamp', 'pen', 'note book', 'laptop']\n"
     ]
    }
   ],
   "source": [
    "B[3]='laptop'\n",
    "print('after chane:',B)"
   ]
  },
  {
   "cell_type": "code",
   "execution_count": null,
   "id": "8cd244e5-ffaf-46bd-a2e1-f042c4a4bd49",
   "metadata": {},
   "outputs": [],
   "source": []
  }
 ],
 "metadata": {
  "kernelspec": {
   "display_name": "Python",
   "language": "python",
   "name": "conda-env-python-py"
  },
  "language_info": {
   "codemirror_mode": {
    "name": "ipython",
    "version": 3
   },
   "file_extension": ".py",
   "mimetype": "text/x-python",
   "name": "python",
   "nbconvert_exporter": "python",
   "pygments_lexer": "ipython3",
   "version": "3.7.12"
  }
 },
 "nbformat": 4,
 "nbformat_minor": 5
}
