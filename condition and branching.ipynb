{
 "cells": [
  {
   "cell_type": "markdown",
   "id": "f3a18862-8293-4680-a3b1-b5601aad8c30",
   "metadata": {},
   "source": [
    "# Conditions in Python"
   ]
  },
  {
   "cell_type": "markdown",
   "id": "8d717134-607d-4fab-aef1-7f9a6833d5b5",
   "metadata": {},
   "source": [
    "Condition equal"
   ]
  },
  {
   "cell_type": "code",
   "execution_count": 1,
   "id": "c585daa5-571c-4953-b26a-cb8dccb258de",
   "metadata": {},
   "outputs": [
    {
     "data": {
      "text/plain": [
       "False"
      ]
     },
     "execution_count": 1,
     "metadata": {},
     "output_type": "execute_result"
    }
   ],
   "source": [
    "a=5\n",
    "a==6"
   ]
  },
  {
   "cell_type": "code",
   "execution_count": 2,
   "id": "9b1d375b-b4e8-4713-b724-6afb2386c157",
   "metadata": {},
   "outputs": [
    {
     "data": {
      "text/plain": [
       "True"
      ]
     },
     "execution_count": 2,
     "metadata": {},
     "output_type": "execute_result"
    }
   ],
   "source": [
    "a=5\n",
    "a!=6"
   ]
  },
  {
   "cell_type": "code",
   "execution_count": 3,
   "id": "30101151-5841-40e9-a287-7f0930c8df90",
   "metadata": {},
   "outputs": [
    {
     "data": {
      "text/plain": [
       "True"
      ]
     },
     "execution_count": 3,
     "metadata": {},
     "output_type": "execute_result"
    }
   ],
   "source": [
    "a<6"
   ]
  },
  {
   "cell_type": "code",
   "execution_count": 4,
   "id": "dab17e60-2c74-452a-bc7f-e1f3e68fdc5a",
   "metadata": {},
   "outputs": [
    {
     "data": {
      "text/plain": [
       "False"
      ]
     },
     "execution_count": 4,
     "metadata": {},
     "output_type": "execute_result"
    }
   ],
   "source": [
    "a>6"
   ]
  },
  {
   "cell_type": "code",
   "execution_count": 5,
   "id": "c4a8d786-258c-4e15-9169-e593c571e188",
   "metadata": {},
   "outputs": [
    {
     "data": {
      "text/plain": [
       "False"
      ]
     },
     "execution_count": 5,
     "metadata": {},
     "output_type": "execute_result"
    }
   ],
   "source": [
    "a>=6"
   ]
  },
  {
   "cell_type": "code",
   "execution_count": 9,
   "id": "49b76d59-f6e5-4285-bb78-df0c719ac0ae",
   "metadata": {},
   "outputs": [],
   "source": [
    "x=100\n",
    "y=67"
   ]
  },
  {
   "cell_type": "code",
   "execution_count": 10,
   "id": "1de76e48-301c-435f-91ef-abb2086e09df",
   "metadata": {},
   "outputs": [
    {
     "data": {
      "text/plain": [
       "True"
      ]
     },
     "execution_count": 10,
     "metadata": {},
     "output_type": "execute_result"
    }
   ],
   "source": [
    "x>y"
   ]
  },
  {
   "cell_type": "markdown",
   "id": "306376ca-4f89-4bef-83d4-7f413779eec1",
   "metadata": {},
   "source": [
    "### Branching"
   ]
  },
  {
   "cell_type": "code",
   "execution_count": 61,
   "id": "4113a2ca-b4ca-4bc5-b560-928d2aed9c86",
   "metadata": {},
   "outputs": [
    {
     "name": "stdout",
     "output_type": "stream",
     "text": [
      "you can enter\n",
      "move on\n"
     ]
    }
   ],
   "source": [
    "# If statement example\n",
    "\n",
    "age = 19\n",
    "\n",
    "\n",
    "if age > 18:\n",
    "    \n",
    "   \n",
    "    print(\"you can enter\" )\n",
    "\n",
    "\n",
    "print(\"move on\")"
   ]
  },
  {
   "cell_type": "code",
   "execution_count": 66,
   "id": "79feb074-4d54-43c3-a57c-761baab0d43a",
   "metadata": {},
   "outputs": [
    {
     "name": "stdout",
     "output_type": "stream",
     "text": [
      "enter\n",
      "move\n"
     ]
    }
   ],
   "source": [
    "# if statment\n",
    "age =20\n",
    "if age > 18:\n",
    "    print(\"enter\")\n",
    "    print('move')"
   ]
  },
  {
   "cell_type": "code",
   "execution_count": 67,
   "id": "8a6e48e3-d867-47f8-9cb7-54848cb8b41f",
   "metadata": {},
   "outputs": [
    {
     "name": "stdout",
     "output_type": "stream",
     "text": [
      "go\n",
      "move on\n"
     ]
    }
   ],
   "source": [
    "# else statment\n",
    "age= 21\n",
    "if age >20:\n",
    "    print(\"go\")\n",
    "else:\n",
    "    print(\"retain\")\n",
    "    \n",
    "print(\"move on\")\n",
    "\n",
    "    \n"
   ]
  },
  {
   "cell_type": "code",
   "execution_count": 68,
   "id": "d4c0d1a6-2d77-4eb1-8cf4-be7819434cae",
   "metadata": {},
   "outputs": [
    {
     "name": "stdout",
     "output_type": "stream",
     "text": [
      "sit\n",
      "hi\n"
     ]
    }
   ],
   "source": [
    "age=22\n",
    "if age < 21:\n",
    "    print(\"go\")\n",
    "else:\n",
    "    print(\"sit\")\n",
    "print(\"hi\")\n",
    "    "
   ]
  },
  {
   "cell_type": "code",
   "execution_count": 70,
   "id": "fb6ed371-9e2b-4e15-ac22-743ff77fab07",
   "metadata": {},
   "outputs": [
    {
     "name": "stdout",
     "output_type": "stream",
     "text": [
      "show identity\n",
      "Hello\n"
     ]
    }
   ],
   "source": [
    "# elif statement\n",
    "age=18\n",
    "if age < 18:\n",
    "    print(\"not allowed\")\n",
    "elif age==18:\n",
    "          print(\"show identity\")\n",
    "else:\n",
    "    print(\"go back\")\n",
    "    \n",
    "print(\"Hello\")\n",
    "          \n",
    "          "
   ]
  },
  {
   "cell_type": "code",
   "execution_count": 74,
   "id": "63c3c328-6d3a-4a57-8c99-649cc3b7c4cc",
   "metadata": {},
   "outputs": [
    {
     "name": "stdout",
     "output_type": "stream",
     "text": [
      "ok\n"
     ]
    }
   ],
   "source": [
    "# Condition Statment\n",
    "passing_year = 2011\n",
    "if passing_year > 2010:\n",
    "    print(\"ok\")\n",
    "else:\n",
    "    print(\"not ok\")"
   ]
  },
  {
   "cell_type": "code",
   "execution_count": 78,
   "id": "683ed5a0-8990-4dc7-98ee-48abf5d5f70e",
   "metadata": {},
   "outputs": [
    {
     "name": "stdout",
     "output_type": "stream",
     "text": [
      "eligible\n",
      "\n",
      "Hi\n"
     ]
    }
   ],
   "source": [
    "passing_year=2011\n",
    "if(passing_year>2010)and (passing_year<2020):\n",
    "    print(\"eligible\")\n",
    "print('')\n",
    "print(\"Hi\")\n"
   ]
  },
  {
   "cell_type": "code",
   "execution_count": 81,
   "id": "407e1146-808a-4e99-9f01-0f392e2a57e9",
   "metadata": {},
   "outputs": [
    {
     "name": "stdout",
     "output_type": "stream",
     "text": [
      "Female\n"
     ]
    }
   ],
   "source": [
    "age=22\n",
    "if age == 20:\n",
    "    print(\"Male\")\n",
    "elif age >21:\n",
    "    print(\"Female\")\n",
    "else:\n",
    "    print(\"boy\")"
   ]
  },
  {
   "cell_type": "code",
   "execution_count": 82,
   "id": "74f07c23-79cc-4bb8-bfb3-520cb240b25b",
   "metadata": {},
   "outputs": [
    {
     "name": "stdout",
     "output_type": "stream",
     "text": [
      "child\n"
     ]
    }
   ],
   "source": [
    "age = 6\n",
    "if(age>3)and (age<8):\n",
    "    print('child')\n"
   ]
  },
  {
   "cell_type": "code",
   "execution_count": 85,
   "id": "a7c79451-a882-49a3-9f4d-a6a0056541ae",
   "metadata": {},
   "outputs": [
    {
     "name": "stdout",
     "output_type": "stream",
     "text": [
      "adolscent\n"
     ]
    }
   ],
   "source": [
    "age = 14\n",
    "if(age<18)or (age >130):\n",
    "               print('adolscent')"
   ]
  },
  {
   "cell_type": "code",
   "execution_count": 87,
   "id": "1f0dcb49-6112-49ca-bd3c-3dc3b831adf5",
   "metadata": {},
   "outputs": [
    {
     "name": "stdout",
     "output_type": "stream",
     "text": [
      "adult\n"
     ]
    }
   ],
   "source": [
    "age = 18\n",
    "if not (age==20):\n",
    "    print(\"adult\")"
   ]
  },
  {
   "cell_type": "code",
   "execution_count": null,
   "id": "ff9a402b-a839-4f75-964c-5caeffb1cbd1",
   "metadata": {},
   "outputs": [],
   "source": []
  }
 ],
 "metadata": {
  "kernelspec": {
   "display_name": "Python",
   "language": "python",
   "name": "conda-env-python-py"
  },
  "language_info": {
   "codemirror_mode": {
    "name": "ipython",
    "version": 3
   },
   "file_extension": ".py",
   "mimetype": "text/x-python",
   "name": "python",
   "nbconvert_exporter": "python",
   "pygments_lexer": "ipython3",
   "version": "3.7.12"
  }
 },
 "nbformat": 4,
 "nbformat_minor": 5
}
