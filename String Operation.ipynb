{
 "cells": [
  {
   "cell_type": "markdown",
   "id": "050113a2-f1de-4a81-bbd0-84ba806af2e3",
   "metadata": {},
   "source": [
    "# String Operations "
   ]
  },
  {
   "cell_type": "markdown",
   "id": "4ca54a3c-04d0-4765-be7c-12f2c36700c0",
   "metadata": {},
   "source": [
    "#### What are strings ?"
   ]
  },
  {
   "cell_type": "code",
   "execution_count": 1,
   "id": "84f9c640-c21b-4506-a01c-f5353ef41c8e",
   "metadata": {},
   "outputs": [
    {
     "data": {
      "text/plain": [
       "'Ziaul Haque'"
      ]
     },
     "execution_count": 1,
     "metadata": {},
     "output_type": "execute_result"
    }
   ],
   "source": [
    "# Use the Quotation marks for defining string  \n",
    "\"Ziaul Haque\""
   ]
  },
  {
   "cell_type": "markdown",
   "id": "597b3874-3a59-4516-b855-4831e33ef13e",
   "metadata": {},
   "source": [
    "We can also use single quotation marks "
   ]
  },
  {
   "cell_type": "code",
   "execution_count": 2,
   "id": "f95bbc33-497c-476d-8064-343b4605da95",
   "metadata": {},
   "outputs": [
    {
     "data": {
      "text/plain": [
       "'Ziaul Haque'"
      ]
     },
     "execution_count": 2,
     "metadata": {},
     "output_type": "execute_result"
    }
   ],
   "source": [
    "'Ziaul Haque'"
   ]
  },
  {
   "cell_type": "markdown",
   "id": "8ee6cb2b-c653-468d-8a19-25ff52a3af5c",
   "metadata": {},
   "source": [
    "A string can be combination of spaces and digits "
   ]
  },
  {
   "cell_type": "code",
   "execution_count": 3,
   "id": "1edd833b-dc32-4701-8c34-d05d164864b1",
   "metadata": {},
   "outputs": [
    {
     "data": {
      "text/plain": [
       "'1 4 4 2 5 7 0'"
      ]
     },
     "execution_count": 3,
     "metadata": {},
     "output_type": "execute_result"
    }
   ],
   "source": [
    "\"1 4 4 2 5 7 0\""
   ]
  },
  {
   "cell_type": "markdown",
   "id": "e0622a4b-3293-4327-a81c-f15b61e77568",
   "metadata": {},
   "source": [
    "A string can also be combination of special characters "
   ]
  },
  {
   "cell_type": "code",
   "execution_count": 4,
   "id": "cb0770a4-d964-446e-b762-3dac47051408",
   "metadata": {},
   "outputs": [
    {
     "data": {
      "text/plain": [
       "'@*$@%^&?~_7$'"
      ]
     },
     "execution_count": 4,
     "metadata": {},
     "output_type": "execute_result"
    }
   ],
   "source": [
    "'@*$@%^&?~_7$'"
   ]
  },
  {
   "cell_type": "markdown",
   "id": "b22af476-6b2f-4841-bdf0-883680711f2c",
   "metadata": {},
   "source": [
    "We can print our string using print statement "
   ]
  },
  {
   "cell_type": "code",
   "execution_count": 5,
   "id": "036b4e91-e148-4b60-8b11-53c7b481fca1",
   "metadata": {},
   "outputs": [
    {
     "name": "stdout",
     "output_type": "stream",
     "text": [
      "ziaul haque\n"
     ]
    }
   ],
   "source": [
    "# Print the string \n",
    "print('ziaul haque')"
   ]
  },
  {
   "cell_type": "markdown",
   "id": "ae0af453-04a1-4a71-bb4a-d59047a644a7",
   "metadata": {},
   "source": [
    "We can bind or assign a string to another variable "
   ]
  },
  {
   "cell_type": "code",
   "execution_count": 7,
   "id": "f2184410-bf90-4f2f-9051-30be2462cca4",
   "metadata": {},
   "outputs": [
    {
     "data": {
      "text/plain": [
       "'Ziaul Haque'"
      ]
     },
     "execution_count": 7,
     "metadata": {},
     "output_type": "execute_result"
    }
   ],
   "source": [
    "# Assign string to variable \n",
    "Name='Ziaul Haque'\n",
    "Name"
   ]
  },
  {
   "cell_type": "markdown",
   "id": "2ae0f791-e95a-43a8-9af3-0943edb5a9d4",
   "metadata": {},
   "source": [
    "## Indexing "
   ]
  },
  {
   "cell_type": "markdown",
   "id": "ef883576-36af-4478-b128-d98637dbfbae",
   "metadata": {},
   "source": [
    "It is helpful to think of a string as an ordered sequence. Each element in the sequence can be accessed using an index represented by the array of numbers:\n"
   ]
  },
  {
   "cell_type": "markdown",
   "id": "b274f856-8bec-42c2-8014-f3b763fcc660",
   "metadata": {},
   "source": [
    "# Name = Z i a u l   H a q u e\n",
    "#        0 1 2 3 4 5 6 7 8 9 10\n",
    "\n",
    "# print the first element in string\n",
    "print(Name[0])"
   ]
  },
  {
   "cell_type": "code",
   "execution_count": 17,
   "id": "11207997-3fd6-44ce-b74e-f4a936b2c349",
   "metadata": {},
   "outputs": [
    {
     "data": {
      "text/plain": [
       "'H'"
      ]
     },
     "execution_count": 17,
     "metadata": {},
     "output_type": "execute_result"
    }
   ],
   "source": [
    "Name[6]"
   ]
  },
  {
   "cell_type": "code",
   "execution_count": 18,
   "id": "cff6c820-5865-4665-a881-a19840d5b63c",
   "metadata": {},
   "outputs": [
    {
     "data": {
      "text/plain": [
       "'i'"
      ]
     },
     "execution_count": 18,
     "metadata": {},
     "output_type": "execute_result"
    }
   ],
   "source": [
    "Name[1]"
   ]
  },
  {
   "cell_type": "code",
   "execution_count": 19,
   "id": "e619feb4-201a-4a7a-be1d-595c20ec09b4",
   "metadata": {},
   "outputs": [
    {
     "data": {
      "text/plain": [
       "'a'"
      ]
     },
     "execution_count": 19,
     "metadata": {},
     "output_type": "execute_result"
    }
   ],
   "source": [
    "Name[2]"
   ]
  },
  {
   "cell_type": "code",
   "execution_count": 21,
   "id": "fb1cff44-6688-4b23-9a1a-70fc64f64772",
   "metadata": {},
   "outputs": [
    {
     "data": {
      "text/plain": [
       "' '"
      ]
     },
     "execution_count": 21,
     "metadata": {},
     "output_type": "execute_result"
    }
   ],
   "source": [
    "Name[5]"
   ]
  },
  {
   "cell_type": "markdown",
   "id": "5e8cc518-379f-49d6-89fc-978e3db38146",
   "metadata": {},
   "source": [
    "### Negative Indexing"
   ]
  },
  {
   "cell_type": "code",
   "execution_count": 23,
   "id": "ec5a707f-b336-426b-ad2b-e290026a86cc",
   "metadata": {},
   "outputs": [
    {
     "data": {
      "text/plain": [
       "'e'"
      ]
     },
     "execution_count": 23,
     "metadata": {},
     "output_type": "execute_result"
    }
   ],
   "source": [
    "Name[-1]"
   ]
  },
  {
   "cell_type": "code",
   "execution_count": 24,
   "id": "acc0caf7-b6c1-47cf-910d-d817b11389a5",
   "metadata": {},
   "outputs": [
    {
     "data": {
      "text/plain": [
       "'H'"
      ]
     },
     "execution_count": 24,
     "metadata": {},
     "output_type": "execute_result"
    }
   ],
   "source": [
    "Name[-5]"
   ]
  },
  {
   "cell_type": "code",
   "execution_count": 25,
   "id": "14781794-ac34-4e0a-8eb2-b4d044cd0f45",
   "metadata": {},
   "outputs": [
    {
     "data": {
      "text/plain": [
       "11"
      ]
     },
     "execution_count": 25,
     "metadata": {},
     "output_type": "execute_result"
    }
   ],
   "source": [
    "# Find length of the string\n",
    "len(Name)"
   ]
  },
  {
   "cell_type": "markdown",
   "id": "f8a7de03-da9e-48ff-adba-bf89ba16db30",
   "metadata": {},
   "source": [
    "### Slicing"
   ]
  },
  {
   "cell_type": "markdown",
   "id": "e30fa264-73b3-4b63-b102-5338728a7c53",
   "metadata": {},
   "source": [
    "We can obtain multiple characters from a string using slicing, we can obtain the 0 to 4th and 8th to the 12th element:\n",
    "    "
   ]
  },
  {
   "cell_type": "code",
   "execution_count": 31,
   "id": "9629e1fa-71a4-4b1f-a461-e8359120a039",
   "metadata": {},
   "outputs": [
    {
     "data": {
      "text/plain": [
       "'Ziau'"
      ]
     },
     "execution_count": 31,
     "metadata": {},
     "output_type": "execute_result"
    }
   ],
   "source": [
    "# Name = Z i a u l   H a q u e\n",
    "#        0 1 2 3 4 5 6 7 8 9 10\n",
    "\n",
    "Name[0:4]\n"
   ]
  },
  {
   "cell_type": "code",
   "execution_count": 32,
   "id": "3fca8ec6-4278-4d29-a650-f687b38a4a2d",
   "metadata": {},
   "outputs": [
    {
     "data": {
      "text/plain": [
       "' Haq'"
      ]
     },
     "execution_count": 32,
     "metadata": {},
     "output_type": "execute_result"
    }
   ],
   "source": [
    "Name[5:9]"
   ]
  },
  {
   "cell_type": "markdown",
   "id": "2945ad42-d458-4e5d-8ee4-1f2ed32d8106",
   "metadata": {},
   "source": [
    "## Stride"
   ]
  },
  {
   "cell_type": "markdown",
   "id": "07f106ac-9fe2-4b35-adbd-50cf96d0c60a",
   "metadata": {},
   "source": [
    "We can also  input a stride value as follows, with the '2' indicating that we are selecting every second variable:\n"
   ]
  },
  {
   "cell_type": "code",
   "execution_count": 34,
   "id": "28626ab7-f38e-4d47-a7cd-871e4e2b9b1f",
   "metadata": {},
   "outputs": [
    {
     "data": {
      "text/plain": [
       "'ZalHqe'"
      ]
     },
     "execution_count": 34,
     "metadata": {},
     "output_type": "execute_result"
    }
   ],
   "source": [
    "Name[::2]"
   ]
  },
  {
   "cell_type": "code",
   "execution_count": 36,
   "id": "e02a9042-78f1-44e4-99cb-f7ff7590b36a",
   "metadata": {},
   "outputs": [
    {
     "data": {
      "text/plain": [
       "'ZuHu'"
      ]
     },
     "execution_count": 36,
     "metadata": {},
     "output_type": "execute_result"
    }
   ],
   "source": [
    "Name[::3] # every 3rd variable"
   ]
  },
  {
   "cell_type": "markdown",
   "id": "301d9303-5dfb-40d3-b0e8-f911d376072c",
   "metadata": {},
   "source": [
    "We can also incorporate slicing  with the stride. In this case, we select the first five elements and then use the stride:\n"
   ]
  },
  {
   "cell_type": "code",
   "execution_count": 38,
   "id": "44d17e9c-f2d2-4aa3-9921-4f4d047f7fe4",
   "metadata": {},
   "outputs": [
    {
     "data": {
      "text/plain": [
       "'Zal'"
      ]
     },
     "execution_count": 38,
     "metadata": {},
     "output_type": "execute_result"
    }
   ],
   "source": [
    "# Get every second element in the range from index 0 to index 4\n",
    "\n",
    "Name[0:5:2]"
   ]
  },
  {
   "cell_type": "markdown",
   "id": "84bb59c9-0be4-4e3e-b0a2-526e082a806b",
   "metadata": {},
   "source": [
    "### Concatenate Strings "
   ]
  },
  {
   "cell_type": "markdown",
   "id": "f8f14283-0da7-4c0d-ae29-51ebd82f4870",
   "metadata": {},
   "source": [
    "We can concatenate or combine strings by using the addition symbols, and the result is a new string that is a combination of both:"
   ]
  },
  {
   "cell_type": "code",
   "execution_count": 43,
   "id": "ba15d9af-f343-49e1-a21b-377223c98317",
   "metadata": {},
   "outputs": [
    {
     "data": {
      "text/plain": [
       "'Ziaul Haquelives in bihar'"
      ]
     },
     "execution_count": 43,
     "metadata": {},
     "output_type": "execute_result"
    }
   ],
   "source": [
    "# Concatenate two strings\n",
    "statement= Name +  \"lives in bihar\"\n",
    "statement\n"
   ]
  },
  {
   "cell_type": "code",
   "execution_count": 44,
   "id": "b7653edd-567e-43e9-9b3b-24d74bc78b4e",
   "metadata": {},
   "outputs": [
    {
     "data": {
      "text/plain": [
       "'Ziaul HaqueZiaul HaqueZiaul HaqueZiaul Haque'"
      ]
     },
     "execution_count": 44,
     "metadata": {},
     "output_type": "execute_result"
    }
   ],
   "source": [
    "# Print the strings for three times\n",
    "4*Name\n"
   ]
  },
  {
   "cell_type": "markdown",
   "id": "c1d2a1c1-a6b1-4fc1-b361-74b680bb7b93",
   "metadata": {},
   "source": [
    "### Escape Sequences"
   ]
  },
  {
   "cell_type": "markdown",
   "id": "7c0f7259-4207-4427-888a-6d8f3e1b15da",
   "metadata": {},
   "source": [
    "Back slashes represent the beginning  of escape sequences. Escape sequences represent strings that may be difficult to input. For example, back slash \"n\" represents a new line. The output is given by a new line after the back slash \"n\" is encountered:"
   ]
  },
  {
   "cell_type": "code",
   "execution_count": 45,
   "id": "b169c6ea-bd57-4f54-bcff-43315894e0e1",
   "metadata": {},
   "outputs": [
    {
     "name": "stdout",
     "output_type": "stream",
     "text": [
      "Ziaul Haque \n",
      " lives in Bihar\n"
     ]
    }
   ],
   "source": [
    "# New line escape sequence \n",
    "print('Ziaul Haque \\n lives in Bihar')\n"
   ]
  },
  {
   "cell_type": "markdown",
   "id": "d17e83da-cd9b-4e2b-a1f1-13cc2b82f6e8",
   "metadata": {},
   "source": [
    "Similarly, back slash  \"t\" represents a tab:"
   ]
  },
  {
   "cell_type": "markdown",
   "id": "c4d8342f-4c35-4291-9994-b2417c9cec44",
   "metadata": {},
   "source": [
    "# Tab escape sequence\n",
    "print('Ziaul Haque \\t lives in Bihar')"
   ]
  },
  {
   "cell_type": "markdown",
   "id": "6c1dcd65-00f1-4051-8d7e-744a118b0ba9",
   "metadata": {},
   "source": [
    "If you want to place a back slash in your string, use a double back slash:"
   ]
  },
  {
   "cell_type": "code",
   "execution_count": 52,
   "id": "2a535288-a339-4c8a-9369-69c58a80a075",
   "metadata": {},
   "outputs": [
    {
     "name": "stdout",
     "output_type": "stream",
     "text": [
      "Ziaul Haque \\ lives in Bihar\n"
     ]
    }
   ],
   "source": [
    "print('Ziaul Haque \\\\ lives in Bihar')"
   ]
  },
  {
   "cell_type": "markdown",
   "id": "022f1e04-271b-4e31-ae7e-e74657df2f27",
   "metadata": {},
   "source": [
    "### String Operations"
   ]
  },
  {
   "cell_type": "markdown",
   "id": "c53c7884-f5d6-4e9f-a0dc-2bd2242058e8",
   "metadata": {},
   "source": [
    "There are many string operation methods in Python that can be used to manipulate the data. We are going to use some basic string operations on the data.\n"
   ]
  },
  {
   "cell_type": "markdown",
   "id": "dc0edf2a-6e4d-49de-9080-c40c9f2a5781",
   "metadata": {},
   "source": [
    "Let's try with the method <code>upper</code>; this method converts lower case characters to upper case characters:\n"
   ]
  },
  {
   "cell_type": "code",
   "execution_count": 58,
   "id": "60be70fd-7d84-4882-bb23-0fe1154cbb8b",
   "metadata": {},
   "outputs": [
    {
     "name": "stdout",
     "output_type": "stream",
     "text": [
      "before upper: ziaul haque lives in Bihar\n",
      "After upper: ZIAUL HAQUE LIVES IN BIHAR\n"
     ]
    }
   ],
   "source": [
    "a='ziaul haque lives in Bihar'\n",
    "print('before upper:',a)\n",
    "b=a.upper()\n",
    "print('After upper:',b)\n",
    "\n"
   ]
  },
  {
   "cell_type": "markdown",
   "id": "5c948f33-4a88-4a1c-b568-472381361a5f",
   "metadata": {},
   "source": [
    "The method <code>replace</code> replaces a segment of the string, i.e. a substring  with a new string. We input the part of the string we would like to change. The second argument is what we would like to exchange the segment with, and the result is a new string with the segment changed:\n"
   ]
  },
  {
   "cell_type": "code",
   "execution_count": 63,
   "id": "b0a1b4d5-b564-44e2-8f9d-a285e31a27dc",
   "metadata": {},
   "outputs": [
    {
     "data": {
      "text/plain": [
       "'Ajay Devgan lives in Bihar'"
      ]
     },
     "execution_count": 63,
     "metadata": {},
     "output_type": "execute_result"
    }
   ],
   "source": [
    "# Replace the old substring with the new target substring is the segment has been found in the string\n",
    "\n",
    "x= 'Ziaul Haque lives in Bihar'\n",
    "y=x.replace('Ziaul Haque','Ajay Devgan')\n",
    "y\n",
    "\n",
    "\n",
    "\n"
   ]
  },
  {
   "cell_type": "markdown",
   "id": "3df851d5-34ed-476d-84a5-800affb62686",
   "metadata": {},
   "source": [
    "The method <code>find</code> finds a sub-string. The argument is the substring you would like to find, and the output is the first index of the sequence. We can find the sub-string <code>jack</code> or <code>el<code>."
   ]
  },
  {
   "cell_type": "code",
   "execution_count": 66,
   "id": "4fc621e2-4ebe-4301-875a-4455e69b70d4",
   "metadata": {},
   "outputs": [
    {
     "data": {
      "text/plain": [
       "8"
      ]
     },
     "execution_count": 66,
     "metadata": {},
     "output_type": "execute_result"
    }
   ],
   "source": [
    "# Find the substring in the string. Only the index of the first elment of substring in string will be the output\n",
    "Name= 'Ziaul Haque'\n",
    "Name.find('qu')"
   ]
  },
  {
   "cell_type": "code",
   "execution_count": 67,
   "id": "3abe8900-a320-44d9-b992-09cd777ccda6",
   "metadata": {},
   "outputs": [
    {
     "data": {
      "text/plain": [
       "6"
      ]
     },
     "execution_count": 67,
     "metadata": {},
     "output_type": "execute_result"
    }
   ],
   "source": [
    "Name.find('Haque')"
   ]
  },
  {
   "cell_type": "markdown",
   "id": "dd1bf561-b2f2-40d9-be3b-bebd1b2fcab1",
   "metadata": {},
   "source": [
    "If the  sub-string is not in the string then the output is a negative one. For example, the string 'Jasdfasdasdf' is not a substring:"
   ]
  },
  {
   "cell_type": "code",
   "execution_count": 68,
   "id": "2f9d0723-281c-4af1-b4b5-62e016b4fa9c",
   "metadata": {},
   "outputs": [
    {
     "data": {
      "text/plain": [
       "-1"
      ]
     },
     "execution_count": 68,
     "metadata": {},
     "output_type": "execute_result"
    }
   ],
   "source": [
    "Name.find('gf')"
   ]
  },
  {
   "cell_type": "markdown",
   "id": "8ff61123-5cc9-463e-aaed-34f492aad1c2",
   "metadata": {},
   "source": [
    "### Quiz on String"
   ]
  },
  {
   "cell_type": "code",
   "execution_count": 73,
   "id": "c2626652-960a-4d66-a338-49f9920460f7",
   "metadata": {},
   "outputs": [],
   "source": [
    "# Write your code below \n",
    "x ='55'"
   ]
  },
  {
   "cell_type": "code",
   "execution_count": 74,
   "id": "96294727-875e-4732-b9c7-5da9c00783f5",
   "metadata": {},
   "outputs": [],
   "source": [
    "y = \"30\""
   ]
  },
  {
   "cell_type": "code",
   "execution_count": 76,
   "id": "71fc5ba1-b577-4f94-ac6a-c294609771b3",
   "metadata": {},
   "outputs": [
    {
     "data": {
      "text/plain": [
       "'5530'"
      ]
     },
     "execution_count": 76,
     "metadata": {},
     "output_type": "execute_result"
    }
   ],
   "source": [
    "z= x + y\n",
    "z"
   ]
  },
  {
   "cell_type": "code",
   "execution_count": 77,
   "id": "b504caa3-9fd6-4dc6-aaf9-3957ef6dc90e",
   "metadata": {},
   "outputs": [],
   "source": [
    "m= 'fghtyrut'"
   ]
  },
  {
   "cell_type": "code",
   "execution_count": 83,
   "id": "ed937b02-4772-4241-aa34-0e8879bcf497",
   "metadata": {},
   "outputs": [
    {
     "name": "stdout",
     "output_type": "stream",
     "text": [
      "fghty\n"
     ]
    }
   ],
   "source": [
    "print(m[0:5])"
   ]
  },
  {
   "cell_type": "markdown",
   "id": "178c840b-a793-4de0-a0bf-6c81a6558117",
   "metadata": {},
   "source": [
    "Use a stride value of 2 to print out every second character of the string <code>e</code>:"
   ]
  },
  {
   "cell_type": "code",
   "execution_count": 86,
   "id": "9ed030cf-1152-4139-8d54-50105ff90aa0",
   "metadata": {},
   "outputs": [
    {
     "name": "stdout",
     "output_type": "stream",
     "text": [
      "Utrpaeh\n"
     ]
    }
   ],
   "source": [
    "y= 'Uttar pradesh'\n",
    "print(y[::2])"
   ]
  },
  {
   "cell_type": "code",
   "execution_count": null,
   "id": "7542d1ed-61dd-47f6-b099-1b5f0f663bf5",
   "metadata": {},
   "outputs": [],
   "source": []
  }
 ],
 "metadata": {
  "kernelspec": {
   "display_name": "Python",
   "language": "python",
   "name": "conda-env-python-py"
  },
  "language_info": {
   "codemirror_mode": {
    "name": "ipython",
    "version": 3
   },
   "file_extension": ".py",
   "mimetype": "text/x-python",
   "name": "python",
   "nbconvert_exporter": "python",
   "pygments_lexer": "ipython3",
   "version": "3.7.12"
  }
 },
 "nbformat": 4,
 "nbformat_minor": 5
}
